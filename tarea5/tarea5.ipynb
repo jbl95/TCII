{
 "cells": [
  {
   "cell_type": "markdown",
   "metadata": {},
   "source": [
    "<img src=\"./caps/utn.jpg\" align=\"right\" width=\"150\" /> \n",
    "#### Teoría de los Circuitos II - 2021\n",
    "\n",
    "## Corrección y simulaciones de tarea semanal.\n",
    "\n",
    "#### Lauría Juan\n"
   ]
  },
  {
   "cell_type": "markdown",
   "metadata": {},
   "source": [
    "<div class=\"alert alert-block alert-info\">\n",
    "<b>1)</b> Cálculo de parámetros.\n",
    "</div></div>"
   ]
  },
  {
   "cell_type": "code",
   "execution_count": 10,
   "metadata": {},
   "outputs": [
    {
     "name": "stdout",
     "output_type": "stream",
     "text": [
      "eps = 0.349  -  eps**2 = 0.122\n",
      "alpha_1 = -0.704 dB\n",
      "alpha_2 = 13.102 dB\n",
      "alpha_3 = 27.213 dB\n",
      "alpha_4 = 41.335 dB\n",
      "alpha_5 = 55.458 dB\n",
      "alpha_6 = 69.581 dB\n"
     ]
    }
   ],
   "source": [
    "## Cálculo de n para omega_s1\n",
    "import numpy as npy\n",
    "import math as m\n",
    "\n",
    "alfa_max = 0.5 # dB\n",
    "alfa_min = 16 # dB\n",
    "omega_p = 1 # norm omega\n",
    "omega_s = 2.64 # norm omega\n",
    "\n",
    "eps = npy.sqrt(10**(alfa_max/10)-1)\n",
    "\n",
    "print( 'eps = {:3.3f}  -  eps**2 = {:3.3f}'.format(eps, eps**2) )\n",
    "\n",
    "for ii in range(1,7):\n",
    "    \n",
    "    a = ii * (m.acosh(omega_s))\n",
    "    b = (npy.cosh(a))**2\n",
    "    att = 10 * npy.log10(eps**2 * b)\n",
    "    \n",
    "    print('alpha_{:d} = {:3.3f} dB'.format(ii,att)) "
   ]
  },
  {
   "cell_type": "code",
   "execution_count": 11,
   "metadata": {},
   "outputs": [
    {
     "name": "stdout",
     "output_type": "stream",
     "text": [
      "eps = 0.349  -  eps**2 = 0.122\n",
      "alpha_1 = 5.100 dB\n",
      "alpha_2 = 25.192 dB\n",
      "alpha_3 = 45.365 dB\n",
      "alpha_4 = 65.538 dB\n",
      "alpha_5 = 85.712 dB\n",
      "alpha_6 = 105.886 dB\n"
     ]
    }
   ],
   "source": [
    "## Cálculo de n para omega_s2\n",
    "import numpy as npy\n",
    "import math as m\n",
    "\n",
    "alfa_max = 0.5 # dB\n",
    "alfa_min = 24 # dB\n",
    "omega_p = 1 # norm omega\n",
    "omega_s = 5.15 # norm omega\n",
    "\n",
    "eps = npy.sqrt(10**(alfa_max/10)-1)\n",
    "\n",
    "print( 'eps = {:3.3f}  -  eps**2 = {:3.3f}'.format(eps, eps**2) )\n",
    "\n",
    "for ii in range(1,7):\n",
    "    \n",
    "    a = ii * (m.acosh(omega_s))\n",
    "    b = (npy.cosh(a))**2\n",
    "    att = 10 * npy.log10(eps**2 * b)\n",
    "    \n",
    "    print('alpha_{:d} = {:3.3f} dB'.format(ii,att)) "
   ]
  },
  {
   "cell_type": "code",
   "execution_count": 12,
   "metadata": {},
   "outputs": [
    {
     "name": "stdout",
     "output_type": "stream",
     "text": [
      "[-0.31322824+1.02192749j -0.31322824-1.02192749j  0.31322824+1.02192749j\n",
      "  0.31322824-1.02192749j -0.62645649+0.j          0.62645649+0.j        ]\n"
     ]
    }
   ],
   "source": [
    "import numpy as npy\n",
    "\n",
    "ee_2 = eps**2\n",
    "den = [-16*ee_2,0,-24*ee_2,0,-9*ee_2,0,1]\n",
    "\n",
    "print(npy.roots(den))"
   ]
  },
  {
   "cell_type": "markdown",
   "metadata": {},
   "source": [
    "<div class=\"alert alert-block alert-warning\">\n",
    "<b>Comentario:</b> Se toman N = 3 y los polos del lado izquierdo del Plano Z.</div>"
   ]
  },
  {
   "cell_type": "markdown",
   "metadata": {},
   "source": [
    "<div class=\"alert alert-block alert-info\">\n",
    "<b>1)</b> Estructuras pasivas buffereadas.\n",
    "</div></div>"
   ]
  },
  {
   "cell_type": "markdown",
   "metadata": {},
   "source": [
    "<img src=\"./caps/pas.jpg\" align=\"center\" width=\"500\" /> "
   ]
  },
  {
   "cell_type": "markdown",
   "metadata": {},
   "source": [
    "<center>$\\Large \\frac{Vo}{Vi} = \\frac{\\frac{S}{RC}}{S^2+S\\frac{1}{RC}+\\frac{1}{LC}} $</center>"
   ]
  },
  {
   "cell_type": "markdown",
   "metadata": {},
   "source": [
    "<div class=\"alert alert-block alert-warning\">\n",
    "<b>Comentario:</b> Realicé una modificación a los valores calculados en papel ya que en la simulación no obtenía el riple característico de una aproximación de Chebyshev. Por lo tanto, en base a la estructura pasiva, fijé los valores de todos los capacitores en $C = 1$ y en base a las transferencias planteadas volví a recalcular las R y L de cada etapa.</div>"
   ]
  },
  {
   "cell_type": "markdown",
   "metadata": {},
   "source": [
    "<div class=\"alert alert-block alert-info\">\n",
    "<b>2)</b> Circuito planteado sin ganancia.\n",
    "</div></div>"
   ]
  },
  {
   "cell_type": "markdown",
   "metadata": {},
   "source": [
    "<img src=\"./caps/circmal.jpg\" align=\"center\" width=\"800\" /> "
   ]
  },
  {
   "cell_type": "markdown",
   "metadata": {},
   "source": [
    "<img src=\"./caps/tranmal.jpg\" align=\"center\" width=\"800\" /> "
   ]
  },
  {
   "cell_type": "markdown",
   "metadata": {},
   "source": [
    "<div class=\"alert alert-block alert-warning\">\n",
    "<b>Comentario:</b> Como se observa en la imagen estoy aproximadamente 21dB abajo por lo cual implementaré circuitos no inversores que ganen 12 veces entre los 3 y así obtener 0dB en la banda de paso.\n",
    "</div>"
   ]
  },
  {
   "cell_type": "markdown",
   "metadata": {},
   "source": [
    "<div class=\"alert alert-block alert-info\">\n",
    "<b>3)</b> Circuito con ganancia.\n",
    "</div></div>"
   ]
  },
  {
   "cell_type": "markdown",
   "metadata": {},
   "source": [
    "<img src=\"./caps/circ1.jpg\" align=\"center\" width=\"800\" /> "
   ]
  },
  {
   "cell_type": "markdown",
   "metadata": {},
   "source": [
    "<img src=\"./caps/tran1.jpg\" align=\"center\" width=\"800\" /> "
   ]
  },
  {
   "cell_type": "markdown",
   "metadata": {},
   "source": [
    "<div class=\"alert alert-block alert-info\">\n",
    "<b>4)</b> Reemplazando con estrutura GIC las bobinas.\n",
    "</div></div>"
   ]
  },
  {
   "cell_type": "markdown",
   "metadata": {},
   "source": [
    "<div class=\"alert alert-block alert-warning\">\n",
    "<b>Comentario:</b> Para este caso, se volvieron a calcular los valores de los componentes del GIC. Se fijaron los valores de los capacitores en 1 al igual que los valores de la resistencia central y la que está a masa. Luego, en base a la expresión de su ganancia y del calculo de la impedancia que refleja se hallaron los valores.\n",
    "</div>"
   ]
  },
  {
   "cell_type": "markdown",
   "metadata": {},
   "source": [
    "<img src=\"./caps/gic3.jpg\" align=\"center\" width=\"500\"/> "
   ]
  },
  {
   "cell_type": "markdown",
   "metadata": {},
   "source": [
    "<center>$\\Large H = 1 + \\frac{R4}{R5} = 1 + \\frac{1.28}{1}$</center>"
   ]
  },
  {
   "cell_type": "markdown",
   "metadata": {},
   "source": [
    "<center>Como se vió en la estructura anterior, se fijara una ganancia en cada etapa de 2.28 para compensar los -21dB. Así se fijarán R4 y R5.</center>\n",
    "    \n"
   ]
  },
  {
   "cell_type": "markdown",
   "metadata": {},
   "source": [
    "<center>Luego se fijarán los valores C = 1 y R3 = 1. Así, sólo bastará calcular el valor de R1 de la siguiente manera.</center>\n",
    "    \n"
   ]
  },
  {
   "cell_type": "markdown",
   "metadata": {},
   "source": [
    "<center>$\\Large L = \\frac{R4}{R5 * R3 * R1 * C}$</center>"
   ]
  },
  {
   "cell_type": "markdown",
   "metadata": {},
   "source": [
    "<center>$\\Large R1 = \\frac{1.28}{1 * 1 * L * 1}$</center>"
   ]
  },
  {
   "cell_type": "markdown",
   "metadata": {},
   "source": [
    "<center>Donde el valor de L será el valor de las bobinas propuestas en la estructura anterior.</center>"
   ]
  },
  {
   "cell_type": "markdown",
   "metadata": {},
   "source": [
    "<img src=\"./caps/gics1.jpg\" align=\"center\" width=\"800\" /> "
   ]
  },
  {
   "cell_type": "markdown",
   "metadata": {},
   "source": [
    "<img src=\"./caps/gics2.jpg\" align=\"center\" width=\"800\" /> "
   ]
  }
 ],
 "metadata": {
  "kernelspec": {
   "display_name": "Python 3",
   "language": "python",
   "name": "python3"
  },
  "language_info": {
   "codemirror_mode": {
    "name": "ipython",
    "version": 3
   },
   "file_extension": ".py",
   "mimetype": "text/x-python",
   "name": "python",
   "nbconvert_exporter": "python",
   "pygments_lexer": "ipython3",
   "version": "3.8.8"
  }
 },
 "nbformat": 4,
 "nbformat_minor": 4
}
