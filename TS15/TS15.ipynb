{
 "cells": [
  {
   "cell_type": "markdown",
   "metadata": {},
   "source": [
    "<img src=\"./logoutn.jpg\" align=\"right\" width=\"150\" /> \n",
    "### Teoría de los Circuitos II - 2021\n",
    "\n",
    "# Tarea semanal 15\n",
    "## Simulaciones.\n",
    "#### LAURIA JUAN"
   ]
  },
  {
   "cell_type": "code",
   "execution_count": 1,
   "metadata": {},
   "outputs": [],
   "source": [
    "from scipy import signal\n",
    "from splane import pzmap, grpDelay, bodePlot\n",
    "from scipy.signal import TransferFunction,bode\n",
    "import matplotlib.pyplot as plt\n",
    "import numpy as npy"
   ]
  },
  {
   "cell_type": "markdown",
   "metadata": {},
   "source": [
    "## Red normalizada obtenida."
   ]
  },
  {
   "cell_type": "markdown",
   "metadata": {},
   "source": [
    "<div class=\"alert alert-block alert-info\">\n",
    "<b>1)</b> Circuito.\n",
    "</div></div>"
   ]
  },
  {
   "cell_type": "markdown",
   "metadata": {},
   "source": [
    "<img src=\"./caps/circnorm.jpg\" align=\"center\" width=\"4000\" /> "
   ]
  },
  {
   "cell_type": "markdown",
   "metadata": {},
   "source": [
    "<div class=\"alert alert-block alert-info\">\n",
    "<b>2)</b> Transferencia.\n",
    "</div></div>"
   ]
  },
  {
   "cell_type": "markdown",
   "metadata": {},
   "source": [
    "<img src=\"./caps/tnorm.jpg\" align=\"center\" width=\"4000\"/> "
   ]
  },
  {
   "cell_type": "markdown",
   "metadata": {},
   "source": [
    "## Red desnormalizada obtenida."
   ]
  },
  {
   "cell_type": "code",
   "execution_count": 7,
   "metadata": {},
   "outputs": [
    {
     "data": {
      "text/plain": [
       "(50,\n",
       " 50,\n",
       " 3.183098861837907e-09,\n",
       " 3.9788735772973834e-06,\n",
       " 5.306225802683791e-09,\n",
       " 2.9921129301276327e-09,\n",
       " 1.3209860276627314e-05)"
      ]
     },
     "execution_count": 7,
     "metadata": {},
     "output_type": "execute_result"
    }
   ],
   "source": [
    "import numpy as npy\n",
    "\n",
    "### Componentes normalizados.\n",
    "#Datos\n",
    "rg = 1\n",
    "rl = 1\n",
    "\n",
    "#Normas\n",
    "nz = 50\n",
    "nw = 2*npy.pi*1e6\n",
    "\n",
    "#Sección k-cte\n",
    "C1_k = 1\n",
    "L1_k = 1/2\n",
    "\n",
    "#Sección m = 0.6\n",
    "C1_m = 1.667\n",
    "C2_m = 0.94\n",
    "L1_m = 1.66\n",
    "\n",
    "### Desnormalización.\n",
    "rg = rg * 50\n",
    "rl = rl * 50\n",
    "C1_k = C1_k / (nw * nz)\n",
    "L1_k = (L1_k * nz) / nw\n",
    "C1_m= C1_m / (nw * nz)\n",
    "C2_m = C2_m / (nw * nz)\n",
    "L1_m = (L1_m * nz) / nw\n",
    "\n",
    "rg, rl, C1_k, L1_k, C1_m, C2_m, L1_m\n"
   ]
  },
  {
   "cell_type": "markdown",
   "metadata": {},
   "source": [
    "<div class=\"alert alert-block alert-info\">\n",
    "<b>1)</b> Circuito.</div></div>"
   ]
  },
  {
   "cell_type": "markdown",
   "metadata": {},
   "source": [
    "<img src=\"./caps/circdes.jpg\" align=\"center\" width=\"4000\" /> "
   ]
  },
  {
   "cell_type": "markdown",
   "metadata": {},
   "source": [
    "<div class=\"alert alert-block alert-info\">\n",
    "<b>2)</b> Transferencia.\n",
    "</div></div>"
   ]
  },
  {
   "cell_type": "markdown",
   "metadata": {},
   "source": [
    "<img src=\"./caps/tdes.jpg\" align=\"center\" width=\"4000\" /> "
   ]
  },
  {
   "cell_type": "code",
   "execution_count": null,
   "metadata": {},
   "outputs": [],
   "source": []
  }
 ],
 "metadata": {
  "kernelspec": {
   "display_name": "Python 3",
   "language": "python",
   "name": "python3"
  },
  "language_info": {
   "codemirror_mode": {
    "name": "ipython",
    "version": 3
   },
   "file_extension": ".py",
   "mimetype": "text/x-python",
   "name": "python",
   "nbconvert_exporter": "python",
   "pygments_lexer": "ipython3",
   "version": "3.8.8"
  }
 },
 "nbformat": 4,
 "nbformat_minor": 4
}
