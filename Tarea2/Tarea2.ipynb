{
 "cells": [
  {
   "cell_type": "markdown",
   "metadata": {},
   "source": [
    "<img src=\"./logo_UTN.svg\" align=\"right\" width=\"150\" /> \n",
    "#### Teoría de los Circuitos II - 2021\n",
    "\n",
    "# Trabajo semanal #2\n",
    "#### Nombre y Apellido: Juan Lauría\n",
    "\n",
    "***\n",
    "## Simulación: Ejercicio 1 - TP2\n"
   ]
  },
  {
   "cell_type": "markdown",
   "metadata": {},
   "source": [
    "<div class=\"alert alert-block alert-info\">\n",
    "<b>1)</b> Simulación circuital en LTspice - Filtro Butter de orden n = 2 para  $\\alpha_{max}$= -3dB en f = 1KHz.\n",
    "</div></div>"
   ]
  },
  {
   "cell_type": "markdown",
   "metadata": {},
   "source": [
    "Circuito a simular."
   ]
  },
  {
   "cell_type": "markdown",
   "metadata": {},
   "source": [
    "<img src=\"./caps/circuitoA.jpg\" align=\"center\" width=\"800\" /> "
   ]
  },
  {
   "cell_type": "markdown",
   "metadata": {},
   "source": [
    "Respuesta en frecuencia."
   ]
  },
  {
   "cell_type": "markdown",
   "metadata": {},
   "source": [
    "<img src=\"./caps/T-a1.jpg\" align=\"center\" width=\"800\" /> "
   ]
  },
  {
   "cell_type": "markdown",
   "metadata": {},
   "source": [
    "<img src=\"./caps/t-a2.jpg\" align=\"center\" width=\"800\" /> "
   ]
  },
  {
   "cell_type": "markdown",
   "metadata": {},
   "source": [
    "<div class=\"alert alert-block alert-warning\">\n",
    "<b>Comentario:</b> Se observa en los gráficos anteriores que se cumple con lo pedido en los requisitos de diseño del filtro. En 1KHz se observa una caída de -3dB.\n",
    "</div>"
   ]
  },
  {
   "cell_type": "markdown",
   "metadata": {},
   "source": [
    "<div class=\"alert alert-block alert-info\">\n",
    "<b>2)</b> Simulación circuital en LTspice - Filtro de máxima planicidad de orden n = 2 para  $\\alpha_{max}$= -1dB en f = 1KHz.\n",
    "</div></div>"
   ]
  },
  {
   "cell_type": "markdown",
   "metadata": {},
   "source": [
    "Circuito a simular."
   ]
  },
  {
   "cell_type": "markdown",
   "metadata": {},
   "source": [
    "<img src=\"./caps/circuitoB.jpg\" align=\"center\" width=\"800\" /> "
   ]
  },
  {
   "cell_type": "markdown",
   "metadata": {},
   "source": [
    "Respuesta en frecuencia."
   ]
  },
  {
   "cell_type": "markdown",
   "metadata": {},
   "source": [
    "<img src=\"./caps/T-b1.jpg\" align=\"center\" width=\"800\" /> "
   ]
  },
  {
   "cell_type": "markdown",
   "metadata": {},
   "source": [
    "<img src=\"./caps/t-b2.jpg\" align=\"center\" width=\"800\" /> "
   ]
  },
  {
   "cell_type": "markdown",
   "metadata": {},
   "source": [
    "<div class=\"alert alert-block alert-warning\">\n",
    "<b>Comentario:</b> Se observa en los gráficos anteriores que se cumple con lo pedido en los requisitos de diseño del filtro. En 1KHz se observa una caída de -1dB.\n",
    "</div>"
   ]
  },
  {
   "cell_type": "markdown",
   "metadata": {},
   "source": [
    "<div class=\"alert alert-block alert-info\">\n",
    "<b>3)</b> Valores de los componentes de los filtros.\n",
    "</div></div>"
   ]
  },
  {
   "cell_type": "markdown",
   "metadata": {},
   "source": [
    "<img src=\"./caps/tabla.jpg\" align=\"center\" width=\"500\" /> "
   ]
  },
  {
   "cell_type": "markdown",
   "metadata": {},
   "source": [
    "<div class=\"alert alert-block alert-warning\">\n",
    "<b>Comentario:</b> Como Butterworth es un caso especial del criterio de máxima planicidad, para el segundo diseño se puede observar que la frecuencia de corte $w_p$ no coincide con el punto de -3dB. Esto es debido a que el caso de Butter corresponde para un $\\epsilon$ = 1 y en este caso dicho punto sí se corresponde con el Q del circuito. De esta manera, para establecer una relación con el método de Butterworth se debe realizar una renormalización en frecuencia, de manera tal que el $w_B$ (frecuencia de Butter) para el segundo caso será:\n",
    "\n",
    "$w_B = 2\\pi \\cdot 1khz \\cdot \\epsilon^{-1/n}$</div>"
   ]
  },
  {
   "cell_type": "markdown",
   "metadata": {},
   "source": [
    "En el siguiente gráfico se puede observar que el punto de -3dB corresponde a una frecuencia de aproximadamente 1.4 KHz:"
   ]
  },
  {
   "cell_type": "markdown",
   "metadata": {},
   "source": [
    "<img src=\"./caps/t-b3.jpg\" align=\"center\" width=\"800\" /> "
   ]
  }
 ],
 "metadata": {
  "kernelspec": {
   "display_name": "Python 3",
   "language": "python",
   "name": "python3"
  },
  "language_info": {
   "codemirror_mode": {
    "name": "ipython",
    "version": 3
   },
   "file_extension": ".py",
   "mimetype": "text/x-python",
   "name": "python",
   "nbconvert_exporter": "python",
   "pygments_lexer": "ipython3",
   "version": "3.8.5"
  }
 },
 "nbformat": 4,
 "nbformat_minor": 4
}
