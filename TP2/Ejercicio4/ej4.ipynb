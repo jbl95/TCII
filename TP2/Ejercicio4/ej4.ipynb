{
 "cells": [
  {
   "cell_type": "markdown",
   "metadata": {},
   "source": [
    "<img src=\"./caps/utn.jpg\" align=\"right\" width=\"150\" /> \n",
    "#### Teoría de los Circuitos II - 2021\n",
    "\n",
    "# TP2 - Ejercicio 4\n",
    "\n",
    "## Cálculos utilizando python y simulaciones circuitales.\n",
    "\n",
    "#### Grupo N°2\n"
   ]
  },
  {
   "cell_type": "markdown",
   "metadata": {},
   "source": [
    "Consigna:"
   ]
  },
  {
   "cell_type": "markdown",
   "metadata": {},
   "source": [
    "<img src=\"./caps/cons.jpg\" align=\"center\" width=\"800\" /> "
   ]
  },
  {
   "cell_type": "markdown",
   "metadata": {},
   "source": [
    "<div class=\"alert alert-block alert-warning\">\n",
    "<b>Comentario:</b> Para todas las simulaciones se trabajó con valores normalizados y se implementaron filtros tipo KHN.</div>"
   ]
  },
  {
   "cell_type": "markdown",
   "metadata": {},
   "source": [
    "<div class=\"alert alert-block alert-info\">\n",
    "<b>1)</b> Cálculo de $\\epsilon$ y $n$ para Chebyshev.\n",
    "</div></div>"
   ]
  },
  {
   "cell_type": "code",
   "execution_count": 6,
   "metadata": {},
   "outputs": [
    {
     "name": "stdout",
     "output_type": "stream",
     "text": [
      "eps = 0.311  -  eps**2 = 0.096\n",
      "alpha_1 = -0.613 dB\n",
      "alpha_2 = 14.453 dB\n",
      "alpha_3 = 29.757 dB\n",
      "alpha_4 = 45.068 dB\n",
      "alpha_5 = 60.379 dB\n",
      "alpha_6 = 75.690 dB\n"
     ]
    }
   ],
   "source": [
    "import numpy as npy\n",
    "import math as m\n",
    "\n",
    "alfa_max = 0.4 # dB\n",
    "alfa_min = 48 # dB\n",
    "omega_p = 1 # norm omega\n",
    "omega_s = 3 # norm omega\n",
    "\n",
    "eps = npy.sqrt(10**(alfa_max/10)-1)\n",
    "\n",
    "print( 'eps = {:3.3f}  -  eps**2 = {:3.3f}'.format(eps, eps**2) )\n",
    "\n",
    "for ii in range(1,7):\n",
    "    \n",
    "    a = ii * (m.acosh(omega_s))\n",
    "    b = (npy.cosh(a))**2\n",
    "    att = 10 * npy.log10(eps**2 * b)\n",
    "    \n",
    "    print('alpha_{:d} = {:3.3f} dB'.format(ii,att)) "
   ]
  },
  {
   "cell_type": "markdown",
   "metadata": {},
   "source": [
    "<div class=\"alert alert-block alert-warning\">\n",
    "<b>Comentario:</b> A partir de la plantilla de filtro pasa altos, se plantea una plantila pasa bajos donde se obtuvo: $\\epsilon = 0.311$ y $n = 5$.\n",
    "</div>"
   ]
  },
  {
   "cell_type": "markdown",
   "metadata": {},
   "source": [
    "<div class=\"alert alert-block alert-info\">\n",
    "<b>2)</b> Ubicación de polos y ceros: utilizando procedimiento del Schaumann.\n",
    "</div></div>"
   ]
  },
  {
   "cell_type": "code",
   "execution_count": 3,
   "metadata": {},
   "outputs": [
    {
     "name": "stdout",
     "output_type": "stream",
     "text": [
      "a = 0.377\n",
      "\n",
      "G_1 = -0.119 y w_1 = 1.019\n",
      "G_2 = -0.312 y w_2 = 0.630\n",
      "G_3 = -0.386 y w_3 = 0.000\n",
      "G_4 = -0.312 y w_4 = -0.630\n",
      "G_5 = -0.119 y w_5 = -1.019\n",
      "\n",
      "Wo_1 = 1.026 y Q_1 = -4.304\n",
      "Wo_2 = 0.703 y Q_2 = -1.126\n",
      "Wo_3 = 0.386 y Q_3 = -0.500\n",
      "Wo_4 = 0.703 y Q_4 = -1.126\n",
      "Wo_5 = 1.026 y Q_5 = -4.304\n"
     ]
    }
   ],
   "source": [
    "import numpy as npy\n",
    "import math as m\n",
    "\n",
    "## Parámetros.\n",
    "nn = 5\n",
    "ee = 0.311 \n",
    "\n",
    "## Calculo a.\n",
    "\n",
    "aa = (1/nn) * m.asinh(1/ee)\n",
    "\n",
    "print('a = {:3.3f}'.format(aa))\n",
    "print('')\n",
    "\n",
    "## Cálculo de ubicación de polos Gk y wk.\n",
    "gk = []\n",
    "wk = []\n",
    "\n",
    "for k in range(1,nn+1):\n",
    "    this_gk = (-1) * m.sinh(aa) * npy.sin(((2*k-1)*npy.pi) / (2*nn))\n",
    "    this_wk = m.cosh(aa) * npy.cos (((2*k-1)*npy.pi) / (2*nn))\n",
    "    gk.append(this_gk)\n",
    "    wk.append(this_wk)\n",
    "    print('G_{:d} = {:3.3f} y w_{:d} = {:3.3f}'.format(k,this_gk,k,this_wk))\n",
    "\n",
    "print('')\n",
    "\n",
    "wo_k = []\n",
    "Q_k = []\n",
    "    \n",
    "for ii in range(len(gk)):\n",
    "    this_wok = npy.sqrt((gk[ii]**2) + (wk[ii]**2))    \n",
    "    this_qk = this_wok / (2 * gk[ii])\n",
    "    \n",
    "    wo_k.append(this_wok)    \n",
    "    Q_k.append(this_qk)\n",
    "    \n",
    "    print('Wo_{:d} = {:3.3f} y Q_{:d} = {:3.3f}'.format(ii+1,this_wok,ii+1,this_qk))"
   ]
  },
  {
   "cell_type": "markdown",
   "metadata": {},
   "source": [
    "<div class=\"alert alert-block alert-info\">\n",
    "<b>3)</b> Ubicación de polos y ceros: calculando raíces del polinomio de Chebyshev de orden 5.\n",
    "</div></div>"
   ]
  },
  {
   "cell_type": "code",
   "execution_count": 2,
   "metadata": {},
   "outputs": [
    {
     "name": "stdout",
     "output_type": "stream",
     "text": [
      "[ 0.1194795 +1.01966983j  0.1194795 -1.01966983j -0.1194795 +1.01966983j\n",
      " -0.1194795 -1.01966983j  0.31280139+0.63019061j  0.31280139-0.63019061j\n",
      " -0.31280139+0.63019061j -0.31280139-0.63019061j -0.38664379+0.j\n",
      "  0.38664379+0.j        ]\n"
     ]
    }
   ],
   "source": [
    "import numpy as npy\n",
    "\n",
    "den = [-24.576,0,-61.44,0,-53.76,0,-19.2,0,-2.4,0,1]\n",
    "\n",
    "raices = npy.roots(den)\n",
    "\n",
    "print(raices)"
   ]
  },
  {
   "cell_type": "markdown",
   "metadata": {},
   "source": [
    "<div class=\"alert alert-block alert-warning\">\n",
    "<b>Comentario:</b> Se toman los polos ubicadas del lado izquierdo del plano Z: $(-0.119 \\pm j 1.019)$, $(-0.312 \\pm j 0.63)$ y $(-0.386)$\n",
    "</div>"
   ]
  },
  {
   "cell_type": "markdown",
   "metadata": {},
   "source": [
    "<div class=\"alert alert-block alert-info\">\n",
    "<b>4)</b> Simulación LTSpice - Chebyshev utilizando cálculo de polos según Schaumann.\n",
    "</div></div>"
   ]
  },
  {
   "cell_type": "markdown",
   "metadata": {},
   "source": [
    "<img src=\"./caps/chebyo.jpg\" align=\"center\" width=\"800\" /> "
   ]
  },
  {
   "cell_type": "markdown",
   "metadata": {},
   "source": [
    "<img src=\"./caps/cheby4.jpg\" align=\"center\" width=\"800\" /> "
   ]
  },
  {
   "cell_type": "markdown",
   "metadata": {},
   "source": [
    "<div class=\"alert alert-block alert-warning\">\n",
    "<b>Comentario:</b> Para este circuito se utilizó el método detallado en el libro de Schaumann para diseñar el filtro y se colocó una estructura pasiva de order 1 en la primer etapa.\n",
    "</div>"
   ]
  },
  {
   "cell_type": "markdown",
   "metadata": {},
   "source": [
    "<div class=\"alert alert-block alert-info\">\n",
    "<b>5)</b> Simulación LTSpice - Chebyshev utilizando polinomios.\n",
    "</div></div>"
   ]
  },
  {
   "cell_type": "markdown",
   "metadata": {},
   "source": [
    "<img src=\"./caps/cheby1.jpg\" align=\"center\" width=\"800\" /> "
   ]
  },
  {
   "cell_type": "markdown",
   "metadata": {},
   "source": [
    "<img src=\"./caps/cheby2.jpg\" align=\"center\" width=\"800\" /> "
   ]
  },
  {
   "cell_type": "markdown",
   "metadata": {},
   "source": [
    "<div class=\"alert alert-block alert-warning\">\n",
    "<b>Comentario:</b> Para este caso se planteó el polinomio de Chebyshev de orden 5 y se hallaron las raíces. Luego, para la primer etapa se utilizó una estructura activa integradora de primer orden.\n",
    "</div>"
   ]
  },
  {
   "cell_type": "markdown",
   "metadata": {},
   "source": [
    "<div class=\"alert alert-block alert-info\">\n",
    "<b>6)</b> Simulación LTSpice - Butterworth $\\epsilon = 1$\n",
    "</div></div>"
   ]
  },
  {
   "cell_type": "code",
   "execution_count": 9,
   "metadata": {},
   "outputs": [
    {
     "name": "stdout",
     "output_type": "stream",
     "text": [
      "eps = 1.000  -  eps**2 = 1.000\n",
      "alpha_1 = 10.000 dB\n",
      "alpha_2 = 19.138 dB\n",
      "alpha_3 = 28.633 dB\n",
      "alpha_4 = 38.170 dB\n",
      "alpha_5 = 47.712 dB\n",
      "alpha_6 = 57.255 dB\n",
      "alpha_7 = 66.797 dB\n",
      "alpha_8 = 76.339 dB\n",
      "alpha_9 = 85.882 dB\n",
      "alpha_10 = 95.424 dB\n"
     ]
    }
   ],
   "source": [
    "## calculo de n para maxima planicidad\n",
    "\n",
    "import numpy as np\n",
    "\n",
    "alfa_max = 1 # dB\n",
    "alfa_min = 48 # dB\n",
    "omega_p = 1 # norm omega\n",
    "omega_s = 3 # norm omega\n",
    "\n",
    "eps = 1\n",
    "\n",
    "print( 'eps = {:3.3f}  -  eps**2 = {:3.3f}'.format(eps, eps**2) )\n",
    "\n",
    "for ii in range(1,11):\n",
    "    print('alpha_{:d} = {:3.3f} dB'.format( ii, 10*np.log10(1 + eps**2 * omega_s**(2*ii)) ) ) "
   ]
  },
  {
   "cell_type": "markdown",
   "metadata": {},
   "source": [
    "<img src=\"./caps/butter.jpg\" align=\"center\" width=\"800\" /> "
   ]
  },
  {
   "cell_type": "markdown",
   "metadata": {},
   "source": [
    "<img src=\"./caps/butter2.jpg\" align=\"center\" width=\"800\" /> "
   ]
  }
 ],
 "metadata": {
  "kernelspec": {
   "display_name": "Python 3",
   "language": "python",
   "name": "python3"
  },
  "language_info": {
   "codemirror_mode": {
    "name": "ipython",
    "version": 3
   },
   "file_extension": ".py",
   "mimetype": "text/x-python",
   "name": "python",
   "nbconvert_exporter": "python",
   "pygments_lexer": "ipython3",
   "version": "3.8.8"
  }
 },
 "nbformat": 4,
 "nbformat_minor": 4
}
