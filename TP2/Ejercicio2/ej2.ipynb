{
 "cells": [
  {
   "cell_type": "markdown",
   "metadata": {},
   "source": [
    "<img src=\"./logo_UTN.svg\" align=\"right\" width=\"150\" /> \n",
    "#### Teoría de los Circuitos II - 2021\n",
    "\n",
    "# TP2 - Ejercicio 2\n",
    "## Cálculo de $\\epsilon$ y $n$ utilizando algoritmos de python.\n",
    "#### Grupo N°2\n"
   ]
  },
  {
   "cell_type": "markdown",
   "metadata": {},
   "source": [
    "<div class=\"alert alert-block alert-info\">\n",
    "<b>1)</b> Cálculo de $\\epsilon$ y $n$.\n",
    "</div></div>"
   ]
  },
  {
   "cell_type": "code",
   "execution_count": 56,
   "metadata": {},
   "outputs": [
    {
     "name": "stdout",
     "output_type": "stream",
     "text": [
      "eps = 0.068  -  eps**2 = 0.005\n",
      "\n",
      "\n",
      "El orden del circuito será n = 11\n",
      "\n"
     ]
    }
   ],
   "source": [
    "import numpy as np\n",
    "\n",
    "iteraciones = 15 #Cantidad de iteraciones.\n",
    "\n",
    "## Plantilla pasabajos.\n",
    "alfa_max = 0.02 # dB\n",
    "alfa_min = 48 # dB\n",
    "omega_p = 1 # norm omega\n",
    "omega_s = 2.2 # norm omega\n",
    "\n",
    "\n",
    "## Cálculo de epsilon.\n",
    "eps = np.sqrt(10**(alfa_max/10)-1)\n",
    "\n",
    "print( 'eps = {:3.3f}  -  eps**2 = {:3.3f}\\n'.format(eps, eps**2) )\n",
    "\n",
    "## Cálculo de n iterando valores.\n",
    "flag = 0\n",
    "tus_resultados = []\n",
    "\n",
    "\n",
    "for ii in range(1,iteraciones):\n",
    "    atenuacion = 10*np.log10(1 + eps**2 * omega_s**(2*ii))\n",
    "\n",
    "    tus_resultados.append([ii,atenuacion])\n",
    "    #print('alpha_{:d} = {:3.3f} dB'.format(ii,atenuacion))\n",
    "    \n",
    "    if atenuacion >= alfa_min and flag == 0:\n",
    "        N = ii\n",
    "        print('\\nEl orden del circuito será n = {:d}\\n'.format(N))\n",
    "        flag = 1\n",
    "  "
   ]
  },
  {
   "cell_type": "code",
   "execution_count": 59,
   "metadata": {},
   "outputs": [
    {
     "data": {
      "text/html": [
       "<table border=\"1\" class=\"dataframe\">\n",
       "  <thead>\n",
       "    <tr style=\"text-align: right;\">\n",
       "      <th>N</th>\n",
       "      <th>Atenuacion</th>\n",
       "    </tr>\n",
       "  </thead>\n",
       "  <tbody>\n",
       "    <tr>\n",
       "      <td>1</td>\n",
       "      <td>0.095955</td>\n",
       "    </tr>\n",
       "    <tr>\n",
       "      <td>2</td>\n",
       "      <td>0.445898</td>\n",
       "    </tr>\n",
       "    <tr>\n",
       "      <td>3</td>\n",
       "      <td>1.827962</td>\n",
       "    </tr>\n",
       "    <tr>\n",
       "      <td>4</td>\n",
       "      <td>5.481381</td>\n",
       "    </tr>\n",
       "    <tr>\n",
       "      <td>5</td>\n",
       "      <td>11.225273</td>\n",
       "    </tr>\n",
       "    <tr>\n",
       "      <td>6</td>\n",
       "      <td>17.805765</td>\n",
       "    </tr>\n",
       "    <tr>\n",
       "      <td>7</td>\n",
       "      <td>24.596732</td>\n",
       "    </tr>\n",
       "    <tr>\n",
       "      <td>8</td>\n",
       "      <td>31.433213</td>\n",
       "    </tr>\n",
       "    <tr>\n",
       "      <td>9</td>\n",
       "      <td>38.279189</td>\n",
       "    </tr>\n",
       "    <tr>\n",
       "      <td>10</td>\n",
       "      <td>45.127130</td>\n",
       "    </tr>\n",
       "    <tr>\n",
       "      <td>11</td>\n",
       "      <td>51.975478</td>\n",
       "    </tr>\n",
       "    <tr>\n",
       "      <td>12</td>\n",
       "      <td>58.823910</td>\n",
       "    </tr>\n",
       "    <tr>\n",
       "      <td>13</td>\n",
       "      <td>65.672359</td>\n",
       "    </tr>\n",
       "    <tr>\n",
       "      <td>14</td>\n",
       "      <td>72.520812</td>\n",
       "    </tr>\n",
       "  </tbody>\n",
       "</table>"
      ],
      "text/plain": [
       "<IPython.core.display.HTML object>"
      ]
     },
     "execution_count": 59,
     "metadata": {},
     "output_type": "execute_result"
    }
   ],
   "source": [
    "import pandas as pd\n",
    "import numpy as np\n",
    "\n",
    "columnas = ['N','Atenuacion'] # esta lista también podría ser un array de NumPy\n",
    "\n",
    "df = pd.DataFrame(tus_resultados, columns = columnas)\n",
    "HTML(df.to_html(index=False))"
   ]
  }
 ],
 "metadata": {
  "kernelspec": {
   "display_name": "Python 3",
   "language": "python",
   "name": "python3"
  },
  "language_info": {
   "codemirror_mode": {
    "name": "ipython",
    "version": 3
   },
   "file_extension": ".py",
   "mimetype": "text/x-python",
   "name": "python",
   "nbconvert_exporter": "python",
   "pygments_lexer": "ipython3",
   "version": "3.8.5"
  }
 },
 "nbformat": 4,
 "nbformat_minor": 4
}
