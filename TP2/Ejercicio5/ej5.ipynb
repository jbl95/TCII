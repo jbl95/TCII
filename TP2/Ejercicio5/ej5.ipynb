{
 "cells": [
  {
   "cell_type": "markdown",
   "metadata": {},
   "source": [
    "<img src=\"./caps/utn.jpg\" align=\"right\" width=\"150\" /> \n",
    "#### Teoría de los Circuitos II - 2021\n",
    "\n",
    "# TP2 - Ejercicio 5\n",
    "\n",
    "## Cálculos utilizando python y simulaciones circuitales.\n",
    "\n",
    "#### Grupo N°2\n"
   ]
  },
  {
   "cell_type": "markdown",
   "metadata": {},
   "source": [
    "Consigna:"
   ]
  },
  {
   "cell_type": "markdown",
   "metadata": {},
   "source": [
    "<img src=\"./caps/consigna.jpg\" align=\"center\" width=\"800\" /> "
   ]
  },
  {
   "cell_type": "markdown",
   "metadata": {},
   "source": [
    "<div class=\"alert alert-block alert-info\">\n",
    "<b>1)</b> Cálculo de $\\epsilon$ y $n$ de plantilla PB.\n",
    "</div></div>"
   ]
  },
  {
   "cell_type": "code",
   "execution_count": null,
   "metadata": {},
   "outputs": [],
   "source": [
    "import numpy as np\n",
    "\n",
    "iteraciones = 15 #Cantidad de iteraciones.\n",
    "\n",
    "## Plantilla pasabajos.\n",
    "alfa_max = 1 # dB\n",
    "alfa_min = 35 # dB\n",
    "omega_p = 1 # norm omega\n",
    "omega_s = 3.5 # norm omega\n",
    "\n",
    "\n",
    "## Cálculo de epsilon.\n",
    "eps = np.sqrt(10**(alfa_max/10)-1)\n",
    "\n",
    "print( 'eps = {:3.3f}  -  eps**2 = {:3.3f}\\n'.format(eps, eps**2) )\n",
    "\n",
    "## Cálculo de n iterando valores.\n",
    "flag = 0\n",
    "tus_resultados = []\n",
    "\n",
    "\n",
    "for ii in range(1,iteraciones):\n",
    "    atenuacion = 10*np.log10(1 + eps**2 * omega_s**(2*ii))\n",
    "\n",
    "    tus_resultados.append([ii,atenuacion])\n",
    "    #print('alpha_{:d} = {:3.3f} dB'.format(ii,atenuacion))\n",
    "    \n",
    "    if atenuacion >= alfa_min and flag == 0:\n",
    "        N = ii\n",
    "        print('\\nEl orden del circuito será n = {:d}\\n'.format(N))\n",
    "        flag = 1\n",
    "  "
   ]
  },
  {
   "cell_type": "markdown",
   "metadata": {},
   "source": [
    "<div class=\"alert alert-block alert-warning\">\n",
    "<b>Comentario:</b> A partir de la plantilla de filtro pasa altos, se plantea una plantila pasa bajos donde se obtuvo: $\\epsilon = 0.509$ y $n = 4$\n",
    "</div>"
   ]
  },
  {
   "cell_type": "markdown",
   "metadata": {},
   "source": [
    "<div class=\"alert alert-block alert-info\">\n",
    "<b>2)</b> Simulación LTSpice normalizada utilizando estructuras pasivas.\n",
    "</div></div>"
   ]
  },
  {
   "cell_type": "markdown",
   "metadata": {},
   "source": [
    "<img src=\"./caps/norm.jpg\" align=\"center\" width=\"800\" /> "
   ]
  },
  {
   "cell_type": "markdown",
   "metadata": {},
   "source": [
    "<img src=\"./caps/norm2.jpg\" align=\"center\" width=\"800\" /> "
   ]
  },
  {
   "cell_type": "markdown",
   "metadata": {},
   "source": [
    "<div class=\"alert alert-block alert-info\">\n",
    "<b>3)</b> Simulación LTSpice desnormalizada utilizando estructuras pasivas.\n",
    "</div></div>"
   ]
  },
  {
   "cell_type": "markdown",
   "metadata": {},
   "source": [
    "<img src=\"./caps/sinnorm.jpg\" align=\"center\" width=\"800\" /> "
   ]
  },
  {
   "cell_type": "markdown",
   "metadata": {},
   "source": [
    "<img src=\"./caps/sinnorm2.jpg\" align=\"center\" width=\"800\" /> "
   ]
  },
  {
   "cell_type": "markdown",
   "metadata": {},
   "source": [
    "<div class=\"alert alert-block alert-info\">\n",
    "<b>4)</b> Simulación LTSpice utilizando estructuras activas para las bobinas.\n",
    "</div></div>"
   ]
  },
  {
   "cell_type": "markdown",
   "metadata": {},
   "source": [
    "<img src=\"./caps/act.jpg\" align=\"center\" width=\"800\" /> "
   ]
  },
  {
   "cell_type": "markdown",
   "metadata": {},
   "source": [
    "<img src=\"./caps/act2.jpg\" align=\"center\" width=\"800\" /> "
   ]
  }
 ],
 "metadata": {
  "kernelspec": {
   "display_name": "Python 3",
   "language": "python",
   "name": "python3"
  },
  "language_info": {
   "codemirror_mode": {
    "name": "ipython",
    "version": 3
   },
   "file_extension": ".py",
   "mimetype": "text/x-python",
   "name": "python",
   "nbconvert_exporter": "python",
   "pygments_lexer": "ipython3",
   "version": "3.8.8"
  }
 },
 "nbformat": 4,
 "nbformat_minor": 4
}
