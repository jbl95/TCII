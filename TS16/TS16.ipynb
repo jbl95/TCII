{
 "cells": [
  {
   "cell_type": "markdown",
   "metadata": {},
   "source": [
    "<img src=\"./logoutn.jpg\" align=\"right\" width=\"150\" /> \n",
    "### Teoría de los Circuitos II - 2021\n",
    "\n",
    "# Tarea semanal 16\n",
    "## Simulaciones.\n",
    "#### LAURIA JUAN"
   ]
  },
  {
   "cell_type": "code",
   "execution_count": 1,
   "metadata": {},
   "outputs": [],
   "source": [
    "from scipy import signal\n",
    "from splane import pzmap, grpDelay, bodePlot\n",
    "from scipy.signal import TransferFunction,bode\n",
    "import matplotlib.pyplot as plt\n",
    "import numpy as npy"
   ]
  },
  {
   "cell_type": "markdown",
   "metadata": {},
   "source": [
    "## Red normalizada obtenida."
   ]
  },
  {
   "cell_type": "markdown",
   "metadata": {},
   "source": [
    "<div class=\"alert alert-block alert-info\">\n",
    "<b>1)</b> Circuito.\n",
    "</div></div>"
   ]
  },
  {
   "cell_type": "markdown",
   "metadata": {},
   "source": [
    "<img src=\"./caps/1.jpg\" align=\"center\" width=\"4000\" /> "
   ]
  },
  {
   "cell_type": "markdown",
   "metadata": {},
   "source": [
    "<div class=\"alert alert-block alert-info\">\n",
    "<b>2)</b> Transferencia.\n",
    "</div></div>"
   ]
  },
  {
   "cell_type": "markdown",
   "metadata": {},
   "source": [
    "<img src=\"./caps/2-a.jpg\" align=\"center\" width=\"4000\"/> "
   ]
  },
  {
   "cell_type": "markdown",
   "metadata": {},
   "source": [
    "<img src=\"./caps/2-b.jpg\" align=\"center\" width=\"4000\"/> "
   ]
  },
  {
   "cell_type": "markdown",
   "metadata": {},
   "source": [
    "<div class=\"alert alert-block alert-info\">\n",
    "<b>3)</b> Gráfico de S11 y S21.\n",
    "</div></div>"
   ]
  },
  {
   "cell_type": "markdown",
   "metadata": {},
   "source": [
    "<img src=\"./caps/3.jpg\" align=\"center\" width=\"4000\"/> "
   ]
  },
  {
   "cell_type": "markdown",
   "metadata": {},
   "source": [
    "## Red desnormalizada obtenida."
   ]
  },
  {
   "cell_type": "code",
   "execution_count": 3,
   "metadata": {},
   "outputs": [
    {
     "data": {
      "text/plain": [
       "(50, 50, 9.94718394324346e-06, 1.8302818455567964e-06, 1.7188733853924699e-09)"
      ]
     },
     "execution_count": 3,
     "metadata": {},
     "output_type": "execute_result"
    }
   ],
   "source": [
    "import numpy as npy\n",
    "\n",
    "### Componentes normalizados.\n",
    "#Datos\n",
    "rg = 1\n",
    "rl = 1\n",
    "L1 = 1.25\n",
    "C1 = 0.54\n",
    "L2 = 0.23\n",
    "\n",
    "#Normas\n",
    "nz = 50\n",
    "nw = 2*npy.pi*1e6\n",
    "\n",
    "#Red desnormalizada.\n",
    "rg = rg * nz\n",
    "rl = rl * nz\n",
    "L1 = (L1 * nz) / nw\n",
    "L2 = (L2 * nz) / nw\n",
    "C1 = C1 / (nz * nw)\n",
    "\n",
    "rg,rl,L1,L2,C1"
   ]
  },
  {
   "cell_type": "markdown",
   "metadata": {},
   "source": [
    "<div class=\"alert alert-block alert-info\">\n",
    "<b>1)</b> Circuito.</div></div>"
   ]
  },
  {
   "cell_type": "markdown",
   "metadata": {},
   "source": [
    "<img src=\"./caps/desn.jpg\" align=\"center\" width=\"4000\" /> "
   ]
  },
  {
   "cell_type": "markdown",
   "metadata": {},
   "source": [
    "<div class=\"alert alert-block alert-info\">\n",
    "<b>2)</b> Transferencia.\n",
    "</div></div>"
   ]
  },
  {
   "cell_type": "markdown",
   "metadata": {},
   "source": [
    "<img src=\"./caps/4-desn.jpg\" align=\"center\" width=\"4000\" /> "
   ]
  }
 ],
 "metadata": {
  "kernelspec": {
   "display_name": "Python 3",
   "language": "python",
   "name": "python3"
  },
  "language_info": {
   "codemirror_mode": {
    "name": "ipython",
    "version": 3
   },
   "file_extension": ".py",
   "mimetype": "text/x-python",
   "name": "python",
   "nbconvert_exporter": "python",
   "pygments_lexer": "ipython3",
   "version": "3.8.8"
  }
 },
 "nbformat": 4,
 "nbformat_minor": 4
}
