{
 "cells": [
  {
   "cell_type": "markdown",
   "metadata": {},
   "source": [
    "<img src=\"./logoutn.jpg\" align=\"right\" width=\"150\" /> \n",
    "### Teoría de los Circuitos II - 2021\n",
    "\n",
    "# Tarea semanal 14\n",
    "## Simulaciones.\n",
    "#### LAURIA JUAN"
   ]
  },
  {
   "cell_type": "code",
   "execution_count": 1,
   "metadata": {},
   "outputs": [],
   "source": [
    "from scipy import signal\n",
    "from splane import pzmap, grpDelay, bodePlot\n",
    "from scipy.signal import TransferFunction,bode\n",
    "import matplotlib.pyplot as plt\n",
    "import numpy as npy"
   ]
  },
  {
   "cell_type": "markdown",
   "metadata": {},
   "source": [
    "## EJERCICIO #1"
   ]
  },
  {
   "cell_type": "markdown",
   "metadata": {},
   "source": [
    "<div class=\"alert alert-block alert-info\">\n",
    "<b>1)</b> Cálculos de la matriz T y de la red.\n",
    "</div></div>"
   ]
  },
  {
   "cell_type": "code",
   "execution_count": 10,
   "metadata": {},
   "outputs": [
    {
     "name": "stdout",
     "output_type": "stream",
     "text": [
      "Matriz T obtenida:\n"
     ]
    },
    {
     "data": {
      "text/plain": [
       "[[15.826506530929983, 1184.6161774922407],\n",
       " [0.21059843155417612, 15.826506530929983]]"
      ]
     },
     "execution_count": 10,
     "metadata": {},
     "output_type": "execute_result"
    }
   ],
   "source": [
    "## DATOS\n",
    "alfa_db = 30\n",
    "alfa_np = alfa_db / 8.686\n",
    "zi1 = 75\n",
    "zi2 = 75\n",
    "\n",
    "## MATRIZ T\n",
    "A = npy.cosh(alfa_np) * npy.sqrt(zi1 / zi2)\n",
    "B = npy.sinh(alfa_np) * npy.sqrt(zi1 * zi2)\n",
    "C = npy.sinh(alfa_np) / npy.sqrt(zi1 * zi2)\n",
    "D = npy.cosh(alfa_np) * npy.sqrt(zi2 / zi1) \n",
    "matriz_t = [[A,B],[C,D]]\n",
    "\n",
    "## RED T\n",
    "Z2 = 1 / matriz_t[1][0]\n",
    "Z1 = (matriz_t[0][0] - 1) * Z2\n",
    "Z3 = (matriz_t[1][1] - 1) * Z2\n",
    "\n",
    "print(\"Matriz T obtenida:\")\n",
    "matriz_t"
   ]
  },
  {
   "cell_type": "code",
   "execution_count": 9,
   "metadata": {},
   "outputs": [
    {
     "name": "stdout",
     "output_type": "stream",
     "text": [
      "Z1 = 70.4017898970719\n",
      "Z2 = 4.748373445235044\n",
      "Z3 = 70.4017898970719\n"
     ]
    }
   ],
   "source": [
    "print(\"Z1 = \" + str(Z1))\n",
    "print(\"Z2 = \" + str(Z2))\n",
    "print(\"Z3 = \" + str(Z3))"
   ]
  },
  {
   "cell_type": "markdown",
   "metadata": {},
   "source": [
    "<div class=\"alert alert-block alert-info\">\n",
    "<b>2)</b> Simulación circuital.\n",
    "</div></div>"
   ]
  },
  {
   "cell_type": "markdown",
   "metadata": {},
   "source": [
    "<img src=\"./caps/ej1-a.jpg\" align=\"center\" width=\"4000\" /> "
   ]
  },
  {
   "cell_type": "markdown",
   "metadata": {},
   "source": [
    "<img src=\"./caps/ej1-b.jpg\" align=\"center\" width=\"4000\"/> "
   ]
  },
  {
   "cell_type": "markdown",
   "metadata": {},
   "source": [
    "## EJERCICIO #2"
   ]
  },
  {
   "cell_type": "markdown",
   "metadata": {},
   "source": [
    "<div class=\"alert alert-block alert-info\">\n",
    "<b>1)</b> Cálculo de matriz T y de la red.</div></div>"
   ]
  },
  {
   "cell_type": "code",
   "execution_count": 12,
   "metadata": {},
   "outputs": [
    {
     "name": "stdout",
     "output_type": "stream",
     "text": [
      "Matriz T obtenida:\n"
     ]
    },
    {
     "data": {
      "text/plain": [
       "[[1.5000450534623566, 43.30517181633403],\n",
       " [0.011548045817689074, 1.0000300356415712]]"
      ]
     },
     "execution_count": 12,
     "metadata": {},
     "output_type": "execute_result"
    }
   ],
   "source": [
    "## DATOS\n",
    "alfa_db = 5.72\n",
    "alfa_np = alfa_db / 8.686\n",
    "zi1 = 75\n",
    "zi2 = 50\n",
    "\n",
    "## MATRIZ T\n",
    "A = npy.cosh(alfa_np) * npy.sqrt(zi1 / zi2)\n",
    "B = npy.sinh(alfa_np) * npy.sqrt(zi1 * zi2)\n",
    "C = npy.sinh(alfa_np) / npy.sqrt(zi1 * zi2)\n",
    "D = npy.cosh(alfa_np) * npy.sqrt(zi2 / zi1) \n",
    "matriz_t = [[A,B],[C,D]]\n",
    "\n",
    "## RED T\n",
    "Z2 = 1 / matriz_t[1][0]\n",
    "Z1 = (matriz_t[0][0] - 1) * Z2\n",
    "Z3 = (matriz_t[1][1] - 1) * Z2\n",
    "\n",
    "print(\"Matriz T obtenida:\")\n",
    "matriz_t"
   ]
  },
  {
   "cell_type": "code",
   "execution_count": 13,
   "metadata": {},
   "outputs": [
    {
     "name": "stdout",
     "output_type": "stream",
     "text": [
      "Z1 = 43.301270306392205\n",
      "Z2 = 86.59473782726245\n",
      "Z3 = 0.0026009285073338023\n"
     ]
    }
   ],
   "source": [
    "print(\"Z1 = \" + str(Z1))\n",
    "print(\"Z2 = \" + str(Z2))\n",
    "print(\"Z3 = \" + str(Z3))"
   ]
  },
  {
   "cell_type": "markdown",
   "metadata": {},
   "source": [
    "<div class=\"alert alert-block alert-info\">\n",
    "<b>2)</b> Simulaciónes.\n",
    "</div></div>"
   ]
  },
  {
   "cell_type": "markdown",
   "metadata": {},
   "source": [
    "<img src=\"./caps/ej2-a.jpg\" align=\"center\" width=\"4000\" /> "
   ]
  },
  {
   "cell_type": "markdown",
   "metadata": {},
   "source": [
    "<img src=\"./caps/ej2-b.jpg\" align=\"center\" width=\"4000\" /> "
   ]
  },
  {
   "cell_type": "markdown",
   "metadata": {},
   "source": [
    "<div class=\"alert alert-block alert-info\">\n",
    "<b>3)</b> Para 80db.\n",
    "</div></div>"
   ]
  },
  {
   "cell_type": "code",
   "execution_count": 14,
   "metadata": {},
   "outputs": [
    {
     "name": "stdout",
     "output_type": "stream",
     "text": [
      "Z1 = 64.14371150251674\n",
      "Z2 = 12.371529565399468\n",
      "Z3 = 38.63863114654468\n"
     ]
    }
   ],
   "source": [
    "## DATOS\n",
    "alfa_db = 20\n",
    "alfa_np = alfa_db / 8.686\n",
    "zi1 = 75\n",
    "zi2 = 50\n",
    "\n",
    "## MATRIZ T\n",
    "A = npy.cosh(alfa_np) * npy.sqrt(zi1 / zi2)\n",
    "B = npy.sinh(alfa_np) * npy.sqrt(zi1 * zi2)\n",
    "C = npy.sinh(alfa_np) / npy.sqrt(zi1 * zi2)\n",
    "D = npy.cosh(alfa_np) * npy.sqrt(zi2 / zi1) \n",
    "matriz_t = [[A,B],[C,D]]\n",
    "\n",
    "## RED T\n",
    "Z2 = 1 / matriz_t[1][0]\n",
    "Z1 = (matriz_t[0][0] - 1) * Z2\n",
    "Z3 = (matriz_t[1][1] - 1) * Z2\n",
    "\n",
    "print(\"Z1 = \" + str(Z1))\n",
    "print(\"Z2 = \" + str(Z2))\n",
    "print(\"Z3 = \" + str(Z3))"
   ]
  },
  {
   "cell_type": "markdown",
   "metadata": {},
   "source": [
    "<img src=\"./caps/ej2-c.jpg\" align=\"center\" width=\"4000\" /> "
   ]
  },
  {
   "cell_type": "markdown",
   "metadata": {},
   "source": [
    "<img src=\"./caps/ej2-e.jpg\" align=\"center\" width=\"4000\" /> "
   ]
  },
  {
   "cell_type": "markdown",
   "metadata": {},
   "source": [
    "<img src=\"./caps/ej2-d.jpg\" align=\"center\" width=\"4000\" /> "
   ]
  },
  {
   "cell_type": "markdown",
   "metadata": {},
   "source": [
    "<img src=\"./caps/ej-f.jpg\" align=\"center\" width=\"4000\" /> "
   ]
  },
  {
   "cell_type": "code",
   "execution_count": null,
   "metadata": {},
   "outputs": [],
   "source": []
  }
 ],
 "metadata": {
  "kernelspec": {
   "display_name": "Python 3",
   "language": "python",
   "name": "python3"
  },
  "language_info": {
   "codemirror_mode": {
    "name": "ipython",
    "version": 3
   },
   "file_extension": ".py",
   "mimetype": "text/x-python",
   "name": "python",
   "nbconvert_exporter": "python",
   "pygments_lexer": "ipython3",
   "version": "3.8.8"
  }
 },
 "nbformat": 4,
 "nbformat_minor": 4
}
